{
 "cells": [
  {
   "cell_type": "code",
   "execution_count": 11,
   "metadata": {},
   "outputs": [],
   "source": [
    "f=open(\"reports /test2.txt\",\"w\")"
   ]
  },
  {
   "cell_type": "code",
   "execution_count": 2,
   "metadata": {},
   "outputs": [
    {
     "data": {
      "text/plain": [
       "array([0, 0, 0, 0, 0])"
      ]
     },
     "execution_count": 2,
     "metadata": {},
     "output_type": "execute_result"
    }
   ],
   "source": [
    "def get_one_hot_vec(tag):\n",
    "    import numpy as np\n",
    "    tag_list=[\"VB\",\"CD\",\"IN\",\"JJ\",\"NN\",\"VB\"]\n",
    "    dict={i:0 for i in tag_list}\n",
    "    try: \n",
    "        dict[tag[:2]]+=1 \n",
    "    except KeyError: \n",
    "        pass\n",
    "    return np.array(list(dict.values())) \n",
    "get_one_hot_vec(\"Njkdshfs\")"
   ]
  }
 ],
 "metadata": {
  "interpreter": {
   "hash": "621fad8639f0e819ea227790d26616985f0e3aee333c596e8794e5fdeb33f211"
  },
  "kernelspec": {
   "display_name": "Python 3.9.12 ('base')",
   "language": "python",
   "name": "python3"
  },
  "language_info": {
   "codemirror_mode": {
    "name": "ipython",
    "version": 3
   },
   "file_extension": ".py",
   "mimetype": "text/x-python",
   "name": "python",
   "nbconvert_exporter": "python",
   "pygments_lexer": "ipython3",
   "version": "3.9.12"
  },
  "orig_nbformat": 4
 },
 "nbformat": 4,
 "nbformat_minor": 2
}
