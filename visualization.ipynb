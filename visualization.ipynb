{
 "cells": [
  {
   "cell_type": "code",
   "execution_count": 3,
   "metadata": {},
   "outputs": [],
   "source": [
    "import seaborn as sns \n",
    "import matplotlib.pyplot as ppl "
   ]
  },
  {
   "cell_type": "code",
   "execution_count": 1,
   "metadata": {},
   "outputs": [],
   "source": [
    "data=[0.3780769 ,0.45115384615384624,\n",
    "0.33615384,0.45115384615384624,\n",
    "0.32730767,0.37346153846153846]\n",
    "\n",
    "hues=[\"bio tags\",\"independent tags\",\"bio tags\",\"independent tags\",\"bio tags\",\"independent tags\"]\n",
    "# lr=[0.45115384615384624,\n",
    "# 0.45115384615384624,\n",
    "# 0.37346153846153846]\n",
    "x=[\"precision\",\"precision\",\"recall\",\"recall\",\"f1-score\",\"f1-score\"]\n"
   ]
  },
  {
   "cell_type": "code",
   "execution_count": 4,
   "metadata": {},
   "outputs": [
    {
     "data": {
      "image/png": "[encoded data removed]",
      "text/plain": [
       "<Figure size 432x288 with 1 Axes>"
      ]
     },
     "metadata": {
      "needs_background": "light"
     },
     "output_type": "display_data"
    }
   ],
   "source": [
    "sns.barplot(x=x,y=data,hue=hues)\n",
    "ppl.ylabel(\"accuracy\")\n",
    "ppl.show()"
   ]
  },
  {
   "cell_type": "code",
   "execution_count": 1,
   "metadata": {},
   "outputs": [
    {
     "ename": "SyntaxError",
     "evalue": "invalid syntax (2821460273.py, line 1)",
     "output_type": "error",
     "traceback": [
      "\u001b[0;36m  Input \u001b[0;32mIn [1]\u001b[0;36m\u001b[0m\n\u001b[0;31m    bio_tags_rm_O=[0.37115383 0.3488461  0.32846153]\u001b[0m\n\u001b[0m                              ^\u001b[0m\n\u001b[0;31mSyntaxError\u001b[0m\u001b[0;31m:\u001b[0m invalid syntax\n"
     ]
    }
   ],
   "source": [
    "bio_tags_rm_O=[0.37115383, 0.3488461,  0.32846153] \n",
    "bio_tags_retain_O=[0.41653845,0.34307688,0.3430769]"
   ]
  }
 ],
 "metadata": {
  "interpreter": {
   "hash": "621fad8639f0e819ea227790d26616985f0e3aee333c596e8794e5fdeb33f211"
  },
  "kernelspec": {
   "display_name": "Python 3.9.12 ('base')",
   "language": "python",
   "name": "python3"
  },
  "language_info": {
   "codemirror_mode": {
    "name": "ipython",
    "version": 3
   },
   "file_extension": ".py",
   "mimetype": "text/x-python",
   "name": "python",
   "nbconvert_exporter": "python",
   "pygments_lexer": "ipython3",
   "version": "3.9.12"
  },
  "orig_nbformat": 4
 },
 "nbformat": 4,
 "nbformat_minor": 2
}
