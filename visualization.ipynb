{
 "cells": [
  {
   "cell_type": "code",
   "execution_count": 15,
   "metadata": {},
   "outputs": [],
   "source": [
    "import seaborn as sns \n",
    "import matplotlib.pyplot as ppl "
   ]
  },
  {
   "cell_type": "code",
   "execution_count": 10,
   "metadata": {},
   "outputs": [],
   "source": [
    "#extract data from reports and returns ave of precision, recall and f1 \n",
    "\n",
    "import re \n",
    "import numpy as np\n",
    "def get_data(file:str): \n",
    "    report=open(file,\"r\").readlines()\n",
    "    data=[]\n",
    "    for line in report: \n",
    "        d=re.findall(r\"\\s[0-9]\\.[0-9]+\\s\",line)\n",
    "        \n",
    "        data.append(d)\n",
    "    data=np.array(data,dtype=\"float32\")\n",
    "    data=np.mean(data,axis=0)\n",
    "    return np.array(data).reshape((3,1))\n"
   ]
  },
  {
   "cell_type": "code",
   "execution_count": 32,
   "metadata": {},
   "outputs": [],
   "source": [
    "data1=get_data(\"test.txt\")\n",
    "data2=get_data(\"test2.txt\")\n",
    "\n",
    "data=np.concatenate([data1,data2],axis=1)\n",
    "\n",
    "hues=[\"normal w2v\",\"w2v neighbouring words+pos tag\"]*3 \n",
    "\n",
    "x=[\"precision\",\"precision\",\"recall\",\"recall\",\"f1-score\",\"f1-score\"]\n",
    "\n"
   ]
  },
  {
   "cell_type": "code",
   "execution_count": 33,
   "metadata": {},
   "outputs": [
    {
     "data": {
      "image/png": "[encoded data removed]",
      "text/plain": [
       "<Figure size 432x288 with 1 Axes>"
      ]
     },
     "metadata": {
      "needs_background": "light"
     },
     "output_type": "display_data"
    }
   ],
   "source": [
    "sns.barplot(x=x,y=data.reshape((6,)),hue=hues)\n",
    "ppl.show()"
   ]
  },
  {
   "cell_type": "code",
   "execution_count": 1,
   "metadata": {},
   "outputs": [
    {
     "ename": "SyntaxError",
     "evalue": "invalid syntax (2821460273.py, line 1)",
     "output_type": "error",
     "traceback": [
      "\u001b[0;36m  Input \u001b[0;32mIn [1]\u001b[0;36m\u001b[0m\n\u001b[0;31m    bio_tags_rm_O=[0.37115383 0.3488461  0.32846153]\u001b[0m\n\u001b[0m                              ^\u001b[0m\n\u001b[0;31mSyntaxError\u001b[0m\u001b[0;31m:\u001b[0m invalid syntax\n"
     ]
    }
   ],
   "source": [
    "bio_tags_rm_O=[0.37115383, 0.3488461,  0.32846153] \n",
    "bio_tags_retain_O=[0.41653845,0.34307688,0.3430769]"
   ]
  }
 ],
 "metadata": {
  "interpreter": {
   "hash": "621fad8639f0e819ea227790d26616985f0e3aee333c596e8794e5fdeb33f211"
  },
  "kernelspec": {
   "display_name": "Python 3.9.12 ('base')",
   "language": "python",
   "name": "python3"
  },
  "language_info": {
   "codemirror_mode": {
    "name": "ipython",
    "version": 3
   },
   "file_extension": ".py",
   "mimetype": "text/x-python",
   "name": "python",
   "nbconvert_exporter": "python",
   "pygments_lexer": "ipython3",
   "version": "3.9.12"
  },
  "orig_nbformat": 4
 },
 "nbformat": 4,
 "nbformat_minor": 2
}
